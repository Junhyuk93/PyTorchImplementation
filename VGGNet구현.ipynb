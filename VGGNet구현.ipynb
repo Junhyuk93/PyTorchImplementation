{
 "cells": [
  {
   "cell_type": "markdown",
   "metadata": {},
   "source": [
    "![image](https://user-images.githubusercontent.com/61610411/129577251-9d68d59e-6c4b-4ac5-8bf0-7f2535241a31.png)"
   ]
  },
  {
   "cell_type": "code",
   "execution_count": 1,
   "metadata": {},
   "outputs": [
    {
     "name": "stdout",
     "output_type": "stream",
     "text": [
      "1.9.0+cu102\n"
     ]
    }
   ],
   "source": [
    "import torch\n",
    "print(torch.__version__)\n",
    "device = torch.device('cuda:0' if torch.cuda.is_available() else 'cpu')"
   ]
  },
  {
   "cell_type": "code",
   "execution_count": 3,
   "metadata": {},
   "outputs": [
    {
     "name": "stdout",
     "output_type": "stream",
     "text": [
      "Downloading http://ai.stanford.edu/~acoates/stl10/stl10_binary.tar.gz to ./data\\stl10_binary.tar.gz\n"
     ]
    },
    {
     "data": {
      "application/vnd.jupyter.widget-view+json": {
       "model_id": "d2cc47282bd84ea7947ab59281a47bcf",
       "version_major": 2,
       "version_minor": 0
      },
      "text/plain": [
       "HBox(children=(FloatProgress(value=0.0, max=2640397119.0), HTML(value='')))"
      ]
     },
     "metadata": {},
     "output_type": "display_data"
    },
    {
     "name": "stdout",
     "output_type": "stream",
     "text": [
      "\n",
      "Extracting ./data\\stl10_binary.tar.gz to ./data\n",
      "Files already downloaded and verified\n"
     ]
    }
   ],
   "source": [
    "import torchvision\n",
    "import torchvision.transforms as transforms\n",
    "\n",
    "transform = transforms.Compose([\n",
    "                                transforms.Resize(256),\n",
    "                                transforms.RandomCrop(224), # 오려내기\n",
    "                                transforms.ToTensor(),\n",
    "                                transforms.Normalize((0.5,0.5,0.5),(0.5,0.5,0.5)),\n",
    "])\n",
    "\n",
    "trainset = torchvision.datasets.STL10(root='./data', split='train', download=True, transform=transform)\n",
    "trainloader = torch.utils.data.DataLoader(trainset, batch_size=32,shuffle=True)\n",
    "\n",
    "testset = torchvision.datasets.STL10(root='./data', split='test', download=True, transform=transform)\n",
    "testloader = torch.utils.data.DataLoader(testset, batch_size=32,shuffle=False)"
   ]
  },
  {
   "cell_type": "markdown",
   "metadata": {},
   "source": [
    "![image](https://user-images.githubusercontent.com/61610411/129573173-fa6b19f0-a45d-4db3-968b-8fdc9cfb2802.png)"
   ]
  },
  {
   "cell_type": "code",
   "execution_count": 10,
   "metadata": {},
   "outputs": [
    {
     "name": "stdout",
     "output_type": "stream",
     "text": [
      "Done.\n"
     ]
    }
   ],
   "source": [
    "import torch\n",
    "import torch.nn as nn\n",
    "\n",
    "class VGG_A(nn.Module):\n",
    "    def __init__(self, num_classes:int=1000, init_weights : bool = True):\n",
    "        super(VGG_A, self).__init__()\n",
    "        self.net = nn.Sequential(\n",
    "            # input channel (RGB : 3)\n",
    "            nn.Conv2d(in_channels=3, out_channels=64, kernel_size=3, padding=1, stride=1),\n",
    "            nn.ReLU(inplace=True),\n",
    "            nn.MaxPool2d(kernel_size=2, stride=2), # 224 -> 112\n",
    "\n",
    "            nn.Conv2d(in_channels=64, out_channels=128, kernel_size=3, padding=1, stride=1),\n",
    "            nn.ReLU(inplace=True),\n",
    "            nn.MaxPool2d(kernel_size=2, stride=2), # 112 -> 56\n",
    "\n",
    "            nn.Conv2d(in_channels=128, out_channels=256, kernel_size=3, padding=1, stride=1),\n",
    "            nn.ReLU(inplace=True),\n",
    "            nn.Conv2d(in_channels=256, out_channels=256, kernel_size=3, padding=1, stride=1),\n",
    "            nn.ReLU(inplace=True),\n",
    "            nn.MaxPool2d(kernel_size=2, stride=2), # 56 -> 28\n",
    "\n",
    "            nn.Conv2d(in_channels=256, out_channels=512, kernel_size=3, padding=1, stride=1),\n",
    "            nn.ReLU(inplace=True),\n",
    "            nn.Conv2d(in_channels=512, out_channels=512, kernel_size=3, padding=1, stride=1),\n",
    "            nn.ReLU(inplace=True),\n",
    "            nn.MaxPool2d(kernel_size=2, stride=2), # 28 -> 14\n",
    "\n",
    "            \n",
    "            nn.Conv2d(in_channels=512, out_channels=512, kernel_size=3, padding=1, stride=1),\n",
    "            nn.ReLU(inplace=True),\n",
    "            nn.Conv2d(in_channels=512, out_channels=512, kernel_size=3, padding=1, stride=1),\n",
    "            nn.ReLU(inplace=True),\n",
    "            nn.MaxPool2d(kernel_size=2, stride=2), # 14 -> 7\n",
    "        )\n",
    "        self.fclayer = nn.Sequential(\n",
    "            nn.Linear(512 * 7 * 7, 4096),\n",
    "            nn.ReLU(inplace=True),\n",
    "            nn.Dropout(0.5),\n",
    "            nn.Linear(4096,4096),\n",
    "            nn.ReLU(inplace=True),\n",
    "            nn.Dropout(0.5),\n",
    "            nn.Linear(4096, 1000),\n",
    "            #nn.Softmax(dim=1), # loss인 Cross Entropy Loss에서 softmax를 포함한다\n",
    "\n",
    "        )\n",
    "\n",
    "    def forward(self, x:torch.Tensor):\n",
    "        x = self.net(x)\n",
    "        x = torch.flatten(x,1)\n",
    "        x = self.fclayer(x)\n",
    "        return x\n",
    "\n",
    "print(\"Done.\")"
   ]
  },
  {
   "cell_type": "code",
   "execution_count": 11,
   "metadata": {},
   "outputs": [
    {
     "name": "stdout",
     "output_type": "stream",
     "text": [
      "[1,    30] loss: 2.214\n",
      "[1,    60] loss: 1.428\n",
      "[1,    90] loss: 1.412\n",
      "[1,   120] loss: 1.409\n",
      "[1,   150] loss: 1.398\n",
      "[2,    30] loss: 1.412\n",
      "[2,    60] loss: 1.403\n",
      "[2,    90] loss: 1.402\n",
      "[2,   120] loss: 1.404\n",
      "[2,   150] loss: 1.391\n",
      "[3,    30] loss: 1.392\n",
      "[3,    60] loss: 1.399\n",
      "[3,    90] loss: 1.398\n",
      "[3,   120] loss: 1.391\n",
      "[3,   150] loss: 1.391\n",
      "[4,    30] loss: 1.392\n",
      "[4,    60] loss: 1.391\n",
      "[4,    90] loss: 1.390\n",
      "[4,   120] loss: 1.394\n",
      "[4,   150] loss: 1.393\n",
      "[5,    30] loss: 1.387\n",
      "[5,    60] loss: 1.387\n",
      "[5,    90] loss: 1.390\n",
      "[5,   120] loss: 1.391\n",
      "[5,   150] loss: 1.390\n",
      "[6,    30] loss: 1.391\n",
      "[6,    60] loss: 1.393\n",
      "[6,    90] loss: 1.390\n",
      "[6,   120] loss: 1.390\n",
      "[6,   150] loss: 1.385\n",
      "[7,    30] loss: 1.391\n",
      "[7,    60] loss: 1.390\n",
      "[7,    90] loss: 1.388\n",
      "[7,   120] loss: 1.390\n",
      "[7,   150] loss: 1.386\n",
      "[8,    30] loss: 1.389\n",
      "[8,    60] loss: 1.392\n",
      "[8,    90] loss: 1.388\n",
      "[8,   120] loss: 1.386\n",
      "[8,   150] loss: 1.388\n",
      "[9,    30] loss: 1.388\n",
      "[9,    60] loss: 1.391\n",
      "[9,    90] loss: 1.391\n",
      "[9,   120] loss: 1.385\n",
      "[9,   150] loss: 1.386\n",
      "[10,    30] loss: 1.386\n",
      "[10,    60] loss: 1.392\n",
      "[10,    90] loss: 1.388\n",
      "[10,   120] loss: 1.389\n",
      "[10,   150] loss: 1.387\n",
      "983.8548805713654\n",
      "Finished Training\n"
     ]
    }
   ],
   "source": [
    "import time\n",
    "vgg_a = VGG_A(num_classes=10)\n",
    "vgg_a = vgg_a.to(device)\n",
    "\n",
    "classes = ('airplance','bird','car','cat','deer','dog','horse','monkey','ship','truck')\n",
    "\n",
    "import torch.optim as optim\n",
    "\n",
    "criterion = nn.CrossEntropyLoss().cuda()\n",
    "optimizer = optim.Adam(vgg_a.parameters(), lr=0.001)\n",
    "start_time = time.time()\n",
    "for epoch in range(10): # loop over the dataset multiple times\n",
    "    running_loss = 0.0\n",
    "    for i, data in enumerate(trainloader,0):\n",
    "        #get the inputs\n",
    "        inputs, labels = data\n",
    "        inputs, labels = inputs.to(device), labels.to(device)\n",
    "\n",
    "        #zero the parameter gradients\n",
    "\n",
    "        optimizer.zero_grad()\n",
    "\n",
    "        #print(input.shape)\n",
    "        outputs = vgg_a(inputs)\n",
    "\n",
    "        loss = criterion(outputs, labels)\n",
    "        loss.backward()\n",
    "        optimizer.step()\n",
    "\n",
    "        running_loss += loss.item()\n",
    "\n",
    "        if i % 30 == 29:\n",
    "            print('[%d, %5d] loss: %.3f' % (epoch + 1, i + 1, running_loss/50))\n",
    "            running_loss = 0.0\n",
    "\n",
    "print(time.time()-start_time)\n",
    "print('Finished Training')"
   ]
  },
  {
   "cell_type": "code",
   "execution_count": 16,
   "metadata": {},
   "outputs": [
    {
     "name": "stdout",
     "output_type": "stream",
     "text": [
      "Accuracy of airplance :  1 %\n",
      "Accuracy of  bird :  2 %\n",
      "Accuracy of   car : 84 %\n",
      "Accuracy of   cat :  0 %\n",
      "Accuracy of  deer :  0 %\n",
      "Accuracy of   dog :  0 %\n",
      "Accuracy of horse :  4 %\n",
      "Accuracy of monkey :  0 %\n",
      "Accuracy of  ship :  0 %\n",
      "Accuracy of truck :  6 %\n"
     ]
    }
   ],
   "source": [
    "class_correct = list(0. for i in range(10))\n",
    "class_total = list(0. for i in range(10))\n",
    "\n",
    "with torch.no_grad():\n",
    "    for data in testloader:\n",
    "        images, labels = data\n",
    "        images = images.cuda()\n",
    "        labels = labels.cuda()\n",
    "        outputs = vgg_a(images)\n",
    "        _, predicted = torch.max(outputs,1)\n",
    "        c = (predicted == labels).squeeze()\n",
    "\n",
    "        for i in range(4):\n",
    "            label = labels[i]\n",
    "\n",
    "            class_correct[label] += c[i].item()\n",
    "            class_total[label] += 1\n",
    "\n",
    "\n",
    "for i in range(10):\n",
    "    print('Accuracy of %5s : %2d %%' % (\n",
    "        classes[i], 100 * class_correct[i] / class_total[i]))"
   ]
  },
  {
   "cell_type": "code",
   "execution_count": null,
   "metadata": {},
   "outputs": [],
   "source": []
  }
 ],
 "metadata": {
  "kernelspec": {
   "display_name": "Python 3",
   "language": "python",
   "name": "python3"
  },
  "language_info": {
   "codemirror_mode": {
    "name": "ipython",
    "version": 3
   },
   "file_extension": ".py",
   "mimetype": "text/x-python",
   "name": "python",
   "nbconvert_exporter": "python",
   "pygments_lexer": "ipython3",
   "version": "3.8.3"
  }
 },
 "nbformat": 4,
 "nbformat_minor": 4
}
