{
<<<<<<< HEAD
  "nbformat": 4,
  "nbformat_minor": 0,
  "metadata": {
    "colab": {
      "name": "VGGNet구현하기.ipynb",
      "provenance": [],
      "collapsed_sections": []
    },
    "kernelspec": {
      "name": "python3",
      "display_name": "Python 3"
    },
    "language_info": {
      "name": "python"
    },
    "accelerator": "GPU",
    "widgets": {
      "application/vnd.jupyter.widget-state+json": {
        "410fe3e581124f748854713b7622cd2d": {
          "model_module": "@jupyter-widgets/controls",
          "model_name": "HBoxModel",
          "model_module_version": "1.5.0",
          "state": {
            "_view_name": "HBoxView",
            "_dom_classes": [],
            "_model_name": "HBoxModel",
            "_view_module": "@jupyter-widgets/controls",
            "_model_module_version": "1.5.0",
            "_view_count": null,
            "_view_module_version": "1.5.0",
            "box_style": "",
            "layout": "IPY_MODEL_8ee7894007764a53996e1868621aa008",
            "_model_module": "@jupyter-widgets/controls",
            "children": [
              "IPY_MODEL_6cadf53981cc410dadd3ece8edffba62",
              "IPY_MODEL_90d32cc48931450f88cacb9ce9e1984c",
              "IPY_MODEL_9e9a2e25a78949399e402296b2be337e"
            ]
          }
        },
        "8ee7894007764a53996e1868621aa008": {
          "model_module": "@jupyter-widgets/base",
          "model_name": "LayoutModel",
          "model_module_version": "1.2.0",
          "state": {
            "_view_name": "LayoutView",
            "grid_template_rows": null,
            "right": null,
            "justify_content": null,
            "_view_module": "@jupyter-widgets/base",
            "overflow": null,
            "_model_module_version": "1.2.0",
            "_view_count": null,
            "flex_flow": null,
            "width": null,
            "min_width": null,
            "border": null,
            "align_items": null,
            "bottom": null,
            "_model_module": "@jupyter-widgets/base",
            "top": null,
            "grid_column": null,
            "overflow_y": null,
            "overflow_x": null,
            "grid_auto_flow": null,
            "grid_area": null,
            "grid_template_columns": null,
            "flex": null,
            "_model_name": "LayoutModel",
            "justify_items": null,
            "grid_row": null,
            "max_height": null,
            "align_content": null,
            "visibility": null,
            "align_self": null,
            "height": null,
            "min_height": null,
            "padding": null,
            "grid_auto_rows": null,
            "grid_gap": null,
            "max_width": null,
            "order": null,
            "_view_module_version": "1.2.0",
            "grid_template_areas": null,
            "object_position": null,
            "object_fit": null,
            "grid_auto_columns": null,
            "margin": null,
            "display": null,
            "left": null
          }
        },
        "6cadf53981cc410dadd3ece8edffba62": {
          "model_module": "@jupyter-widgets/controls",
          "model_name": "HTMLModel",
          "model_module_version": "1.5.0",
          "state": {
            "_view_name": "HTMLView",
            "style": "IPY_MODEL_4a25f6665fa04994b1145d65201166b5",
            "_dom_classes": [],
            "description": "",
            "_model_name": "HTMLModel",
            "placeholder": "​",
            "_view_module": "@jupyter-widgets/controls",
            "_model_module_version": "1.5.0",
            "value": "",
            "_view_count": null,
            "_view_module_version": "1.5.0",
            "description_tooltip": null,
            "_model_module": "@jupyter-widgets/controls",
            "layout": "IPY_MODEL_85b5d399daea49b9a4bef0f026dc11cc"
          }
        },
        "90d32cc48931450f88cacb9ce9e1984c": {
          "model_module": "@jupyter-widgets/controls",
          "model_name": "FloatProgressModel",
          "model_module_version": "1.5.0",
          "state": {
            "_view_name": "ProgressView",
            "style": "IPY_MODEL_b182c728ce8643ab8763f29c0773f449",
            "_dom_classes": [],
            "description": "",
            "_model_name": "FloatProgressModel",
            "bar_style": "success",
            "max": 2640397119,
            "_view_module": "@jupyter-widgets/controls",
            "_model_module_version": "1.5.0",
            "value": 2640397119,
            "_view_count": null,
            "_view_module_version": "1.5.0",
            "orientation": "horizontal",
            "min": 0,
            "description_tooltip": null,
            "_model_module": "@jupyter-widgets/controls",
            "layout": "IPY_MODEL_e9e8327cec3a4b7db6f7ae0703845a29"
          }
        },
        "9e9a2e25a78949399e402296b2be337e": {
          "model_module": "@jupyter-widgets/controls",
          "model_name": "HTMLModel",
          "model_module_version": "1.5.0",
          "state": {
            "_view_name": "HTMLView",
            "style": "IPY_MODEL_d452e72554a148109341d37171323298",
            "_dom_classes": [],
            "description": "",
            "_model_name": "HTMLModel",
            "placeholder": "​",
            "_view_module": "@jupyter-widgets/controls",
            "_model_module_version": "1.5.0",
            "value": " 2640397312/? [02:39&lt;00:00, 17451627.92it/s]",
            "_view_count": null,
            "_view_module_version": "1.5.0",
            "description_tooltip": null,
            "_model_module": "@jupyter-widgets/controls",
            "layout": "IPY_MODEL_015aca3b83084f78b91ff347b0159e05"
          }
        },
        "4a25f6665fa04994b1145d65201166b5": {
          "model_module": "@jupyter-widgets/controls",
          "model_name": "DescriptionStyleModel",
          "model_module_version": "1.5.0",
          "state": {
            "_view_name": "StyleView",
            "_model_name": "DescriptionStyleModel",
            "description_width": "",
            "_view_module": "@jupyter-widgets/base",
            "_model_module_version": "1.5.0",
            "_view_count": null,
            "_view_module_version": "1.2.0",
            "_model_module": "@jupyter-widgets/controls"
          }
        },
        "85b5d399daea49b9a4bef0f026dc11cc": {
          "model_module": "@jupyter-widgets/base",
          "model_name": "LayoutModel",
          "model_module_version": "1.2.0",
          "state": {
            "_view_name": "LayoutView",
            "grid_template_rows": null,
            "right": null,
            "justify_content": null,
            "_view_module": "@jupyter-widgets/base",
            "overflow": null,
            "_model_module_version": "1.2.0",
            "_view_count": null,
            "flex_flow": null,
            "width": null,
            "min_width": null,
            "border": null,
            "align_items": null,
            "bottom": null,
            "_model_module": "@jupyter-widgets/base",
            "top": null,
            "grid_column": null,
            "overflow_y": null,
            "overflow_x": null,
            "grid_auto_flow": null,
            "grid_area": null,
            "grid_template_columns": null,
            "flex": null,
            "_model_name": "LayoutModel",
            "justify_items": null,
            "grid_row": null,
            "max_height": null,
            "align_content": null,
            "visibility": null,
            "align_self": null,
            "height": null,
            "min_height": null,
            "padding": null,
            "grid_auto_rows": null,
            "grid_gap": null,
            "max_width": null,
            "order": null,
            "_view_module_version": "1.2.0",
            "grid_template_areas": null,
            "object_position": null,
            "object_fit": null,
            "grid_auto_columns": null,
            "margin": null,
            "display": null,
            "left": null
          }
        },
        "b182c728ce8643ab8763f29c0773f449": {
          "model_module": "@jupyter-widgets/controls",
          "model_name": "ProgressStyleModel",
          "model_module_version": "1.5.0",
          "state": {
            "_view_name": "StyleView",
            "_model_name": "ProgressStyleModel",
            "description_width": "",
            "_view_module": "@jupyter-widgets/base",
            "_model_module_version": "1.5.0",
            "_view_count": null,
            "_view_module_version": "1.2.0",
            "bar_color": null,
            "_model_module": "@jupyter-widgets/controls"
          }
        },
        "e9e8327cec3a4b7db6f7ae0703845a29": {
          "model_module": "@jupyter-widgets/base",
          "model_name": "LayoutModel",
          "model_module_version": "1.2.0",
          "state": {
            "_view_name": "LayoutView",
            "grid_template_rows": null,
            "right": null,
            "justify_content": null,
            "_view_module": "@jupyter-widgets/base",
            "overflow": null,
            "_model_module_version": "1.2.0",
            "_view_count": null,
            "flex_flow": null,
            "width": null,
            "min_width": null,
            "border": null,
            "align_items": null,
            "bottom": null,
            "_model_module": "@jupyter-widgets/base",
            "top": null,
            "grid_column": null,
            "overflow_y": null,
            "overflow_x": null,
            "grid_auto_flow": null,
            "grid_area": null,
            "grid_template_columns": null,
            "flex": null,
            "_model_name": "LayoutModel",
            "justify_items": null,
            "grid_row": null,
            "max_height": null,
            "align_content": null,
            "visibility": null,
            "align_self": null,
            "height": null,
            "min_height": null,
            "padding": null,
            "grid_auto_rows": null,
            "grid_gap": null,
            "max_width": null,
            "order": null,
            "_view_module_version": "1.2.0",
            "grid_template_areas": null,
            "object_position": null,
            "object_fit": null,
            "grid_auto_columns": null,
            "margin": null,
            "display": null,
            "left": null
          }
        },
        "d452e72554a148109341d37171323298": {
          "model_module": "@jupyter-widgets/controls",
          "model_name": "DescriptionStyleModel",
          "model_module_version": "1.5.0",
          "state": {
            "_view_name": "StyleView",
            "_model_name": "DescriptionStyleModel",
            "description_width": "",
            "_view_module": "@jupyter-widgets/base",
            "_model_module_version": "1.5.0",
            "_view_count": null,
            "_view_module_version": "1.2.0",
            "_model_module": "@jupyter-widgets/controls"
          }
        },
        "015aca3b83084f78b91ff347b0159e05": {
          "model_module": "@jupyter-widgets/base",
          "model_name": "LayoutModel",
          "model_module_version": "1.2.0",
          "state": {
            "_view_name": "LayoutView",
            "grid_template_rows": null,
            "right": null,
            "justify_content": null,
            "_view_module": "@jupyter-widgets/base",
            "overflow": null,
            "_model_module_version": "1.2.0",
            "_view_count": null,
            "flex_flow": null,
            "width": null,
            "min_width": null,
            "border": null,
            "align_items": null,
            "bottom": null,
            "_model_module": "@jupyter-widgets/base",
            "top": null,
            "grid_column": null,
            "overflow_y": null,
            "overflow_x": null,
            "grid_auto_flow": null,
            "grid_area": null,
            "grid_template_columns": null,
            "flex": null,
            "_model_name": "LayoutModel",
            "justify_items": null,
            "grid_row": null,
            "max_height": null,
            "align_content": null,
            "visibility": null,
            "align_self": null,
            "height": null,
            "min_height": null,
            "padding": null,
            "grid_auto_rows": null,
            "grid_gap": null,
            "max_width": null,
            "order": null,
            "_view_module_version": "1.2.0",
            "grid_template_areas": null,
            "object_position": null,
            "object_fit": null,
            "grid_auto_columns": null,
            "margin": null,
            "display": null,
            "left": null
          }
        }
      }
    }
  },
  "cells": [
    {
      "cell_type": "code",
      "metadata": {
        "id": "TZbEh0WutFgt"
      },
      "source": [
        "import torch\n",
        "import torchvision\n",
        "import torchvision.transforms as transforms\n",
        "device = torch.device('cuda:0' if torch.cuda.is_available() else 'cpu')"
      ],
      "execution_count": 2,
      "outputs": []
    },
    {
      "cell_type": "code",
      "metadata": {
        "id": "PHDI6NNHtGs-",
        "colab": {
          "base_uri": "https://localhost:8080/",
          "height": 103,
          "referenced_widgets": [
            "410fe3e581124f748854713b7622cd2d",
            "8ee7894007764a53996e1868621aa008",
            "6cadf53981cc410dadd3ece8edffba62",
            "90d32cc48931450f88cacb9ce9e1984c",
            "9e9a2e25a78949399e402296b2be337e",
            "4a25f6665fa04994b1145d65201166b5",
            "85b5d399daea49b9a4bef0f026dc11cc",
            "b182c728ce8643ab8763f29c0773f449",
            "e9e8327cec3a4b7db6f7ae0703845a29",
            "d452e72554a148109341d37171323298",
            "015aca3b83084f78b91ff347b0159e05"
          ]
        },
        "outputId": "5325fd52-0bfd-43de-eb82-5b23e4c6b10b"
      },
      "source": [
        "import torch\n",
        "import torchvision\n",
        "import torchvision.transforms as transforms\n",
        "\n",
        "import torch.nn as nn\n",
        "import torch.nn.functional as F\n",
        "\n",
        "transform = transforms.Compose([\n",
        "    transforms.Resize(224),\n",
        "    transforms.ToTensor(),\n",
        "    transforms.Normalize((0.5, 0.5, 0.5), (0.5, 0.5, 0.5)),\n",
        "])\n",
        "\n",
        "trainset = torchvision.datasets.STL10(root='./data', split='train', download=True, transform=transform)\n",
        "trainloader = torch.utils.data.DataLoader(trainset, batch_size=64, shuffle=True)\n",
        "\n",
        "testset = torchvision.datasets.STL10(root='./data', split='test', download=True, transform=transform)\n",
        "testloader = torch.utils.data.DataLoader(testset, batch_size=64, shuffle=False)"
      ],
      "execution_count": 3,
      "outputs": [
        {
          "output_type": "stream",
          "text": [
            "Downloading http://ai.stanford.edu/~acoates/stl10/stl10_binary.tar.gz to ./data/stl10_binary.tar.gz\n"
          ],
          "name": "stdout"
        },
        {
          "output_type": "display_data",
          "data": {
            "application/vnd.jupyter.widget-view+json": {
              "model_id": "410fe3e581124f748854713b7622cd2d",
              "version_minor": 0,
              "version_major": 2
            },
            "text/plain": [
              "  0%|          | 0/2640397119 [00:00<?, ?it/s]"
            ]
          },
          "metadata": {}
        },
        {
          "output_type": "stream",
          "text": [
            "Extracting ./data/stl10_binary.tar.gz to ./data\n",
            "Files already downloaded and verified\n"
          ],
          "name": "stdout"
        }
      ]
    },
    {
      "cell_type": "code",
      "metadata": {
        "id": "SfYCZLGytHEa",
        "colab": {
          "base_uri": "https://localhost:8080/"
        },
        "outputId": "d25ba505-8f9d-4ffe-bb23-dd382e9d802c"
      },
      "source": [
        "class Net(nn.Module):\n",
        "    def __init__(self):\n",
        "        super(Net, self).__init__()\n",
        "        self.conv = nn.Sequential(\n",
        "            #3 224 128\n",
        "            nn.Conv2d(3, 64, 3, padding=1,stride=1),nn.ReLU(inplace=True),\n",
        "            nn.BatchNorm2d(64),\n",
        "            nn.MaxPool2d(2, 2),\n",
        "            #64 112 64\n",
        "            nn.Conv2d(64, 128, 3, padding=1,stride=1),nn.ReLU(inplace=True),\n",
        "            # nn.BatchNorm2d(),\n",
        "            # nn.BatchNorm2d(128),\n",
        "            nn.MaxPool2d(2, 2),\n",
        "            #128 56 32\n",
        "            nn.Conv2d(128, 256, 3, padding=1,stride=1),nn.ReLU(inplace=True),\n",
        "            # nn.BatchNorm2d(256),\n",
        "            nn.Conv2d(256, 256, 3, padding=1,stride=1),nn.ReLU(inplace=True),\n",
        "            # nn.BatchNorm2d(),\n",
        "            # nn.BatchNorm2d(256),\n",
        "            nn.MaxPool2d(2, 2),\n",
        "            #256 28 16\n",
        "            nn.Conv2d(256, 512, 3, padding=1,stride=1),nn.ReLU(inplace=True),\n",
        "            # nn.BatchNorm2d(512),\n",
        "            nn.Conv2d(512, 512, 3, padding=1,stride=1),nn.ReLU(inplace=True),\n",
        "            \n",
        "            # nn.BatchNorm2d(512),\n",
        "            nn.MaxPool2d(2, 2),\n",
        "            #512 14 8\n",
        "            nn.Conv2d(512, 512, 3, padding=1,stride=1),nn.ReLU(inplace=True),\n",
        "            nn.BatchNorm2d(512),\n",
        "            nn.Conv2d(512, 512, 3, padding=1,stride=1),nn.ReLU(inplace=True),\n",
        "            \n",
        "            # nn.BatchNorm2d(512),\n",
        "            nn.MaxPool2d(2, 2)\n",
        "        )     #512 7 4\n",
        "        self.avg_pool = nn.AdaptiveAvgPool2d(7)\n",
        "        self.norm = nn.BatchNorm2d(64)\n",
        "        #512 1 1\n",
        "        self.fc = nn.Sequential(\n",
        "            nn.Linear(7 * 7 * 512,4096),\n",
        "            nn.ReLU(inplace=True),\n",
        "            nn.Dropout(p=0.5),\n",
        "            \n",
        "            nn.Linear(4096,4096),\n",
        "            nn.ReLU(inplace=True),\n",
        "            nn.Dropout(p=0.5),\n",
        "            nn.Linear(4096,10))\n",
        "        \n",
        "\n",
        "        \n",
        "\n",
        "\n",
        "        \n",
        "        \n",
        "        # self.fc4 = nn.Linear(1000,10)\n",
        "        \n",
        "\n",
        "    def forward(self, x):\n",
        "\n",
        "        #print(x.size())\n",
        "        features = self.conv(x)\n",
        "        # x = self.norm(x)\n",
        "        x = self.avg_pool(features)\n",
        "\n",
        "        x = x.view(features.size(0), -1)\n",
        "\n",
        "        x = self.fc(x)\n",
        "        \n",
        "        return x, features\n",
        "\n",
        "\n",
        "net = Net()\n",
        "net = net.to(device)\n",
        "param = list(net.parameters())\n",
        "print(len(param))\n",
        "for i in param:\n",
        "    print(i.shape)\n",
        "#print(param[0].shape)"
      ],
      "execution_count": 4,
      "outputs": [
        {
          "output_type": "stream",
          "text": [
            "28\n",
            "torch.Size([64, 3, 3, 3])\n",
            "torch.Size([64])\n",
            "torch.Size([64])\n",
            "torch.Size([64])\n",
            "torch.Size([128, 64, 3, 3])\n",
            "torch.Size([128])\n",
            "torch.Size([256, 128, 3, 3])\n",
            "torch.Size([256])\n",
            "torch.Size([256, 256, 3, 3])\n",
            "torch.Size([256])\n",
            "torch.Size([512, 256, 3, 3])\n",
            "torch.Size([512])\n",
            "torch.Size([512, 512, 3, 3])\n",
            "torch.Size([512])\n",
            "torch.Size([512, 512, 3, 3])\n",
            "torch.Size([512])\n",
            "torch.Size([512])\n",
            "torch.Size([512])\n",
            "torch.Size([512, 512, 3, 3])\n",
            "torch.Size([512])\n",
            "torch.Size([64])\n",
            "torch.Size([64])\n",
            "torch.Size([4096, 25088])\n",
            "torch.Size([4096])\n",
            "torch.Size([4096, 4096])\n",
            "torch.Size([4096])\n",
            "torch.Size([10, 4096])\n",
            "torch.Size([10])\n"
          ],
          "name": "stdout"
        }
      ]
    },
    {
      "cell_type": "code",
      "metadata": {
        "id": "WUuNyqhCtK2i"
      },
      "source": [
        "classes =  ('airplance', 'bird', 'car', 'cat', 'deer', 'dog', 'horse', 'monkey', 'ship', 'truck')\n",
        "import torch.optim as optim\n",
        "\n",
        "criterion = nn.CrossEntropyLoss().to(device)\n",
        "optimizer = optim.Adam(net.parameters(),lr=0.0001)"
      ],
      "execution_count": 5,
      "outputs": []
    },
    {
      "cell_type": "code",
      "metadata": {
        "id": "swxi658mtrK2",
        "colab": {
          "base_uri": "https://localhost:8080/"
        },
        "outputId": "417ad1da-3710-4f21-d774-86a7e9f30fe9"
      },
      "source": [
        "for epoch in range(25):  # loop over the dataset multiple times\n",
        "    running_loss = 0.0\n",
        "    for i, data in enumerate(trainloader, 0):\n",
        "        # get the inputs\n",
        "        inputs, labels = data\n",
        "        inputs, labels = inputs.to(device), labels.to(device)\n",
        "        # zero the parameter gradients\n",
        "        optimizer.zero_grad()\n",
        "\n",
        "        #print(inputs.shape)\n",
        "        #print(inputs.shape)  \n",
        "        # forward + backward + optimize\n",
        "        outputs,f = net(inputs)\n",
        "        #print(outputs.shape)\n",
        "        #print(labels.shape)\n",
        "        loss = criterion(outputs, labels)\n",
        "        loss.backward()\n",
        "        optimizer.step()\n",
        "\n",
        "        if(loss.item() > 1000):\n",
        "            print(loss.item())\n",
        "            for param in net.parameters():\n",
        "                print(param.data)\n",
        "        # print statistics\n",
        "        running_loss += loss.item()\n",
        "        if i % 50 == 49:    # print every 2000 mini-batches\n",
        "            print('[%d, %5d] loss: %.3f' %\n",
        "                  (epoch + 1, i + 1, running_loss / 50))\n",
        "            running_loss = 0.0\n",
        "\n",
        "print('Finished Training')\n"
      ],
      "execution_count": 6,
      "outputs": [
        {
          "output_type": "stream",
          "text": [
            "/usr/local/lib/python3.7/dist-packages/torch/nn/functional.py:718: UserWarning: Named tensors and all their associated APIs are an experimental feature and subject to change. Please do not use them for anything important until they are released as stable. (Triggered internally at  /pytorch/c10/core/TensorImpl.h:1156.)\n",
            "  return torch.max_pool2d(input, kernel_size, stride, padding, dilation, ceil_mode)\n"
          ],
          "name": "stderr"
        },
        {
          "output_type": "stream",
          "text": [
            "[1,    50] loss: 1.900\n",
            "[2,    50] loss: 1.515\n",
            "[3,    50] loss: 1.354\n",
            "[4,    50] loss: 1.171\n",
            "[5,    50] loss: 1.102\n",
            "[6,    50] loss: 0.956\n",
            "[7,    50] loss: 0.831\n",
            "[8,    50] loss: 0.692\n",
            "[9,    50] loss: 0.593\n",
            "[10,    50] loss: 0.543\n",
            "[11,    50] loss: 0.427\n",
            "[12,    50] loss: 0.356\n",
            "[13,    50] loss: 0.201\n",
            "[14,    50] loss: 0.145\n",
            "[15,    50] loss: 0.098\n",
            "[16,    50] loss: 0.064\n",
            "[17,    50] loss: 0.050\n",
            "[18,    50] loss: 0.039\n",
            "[19,    50] loss: 0.040\n",
            "[20,    50] loss: 0.084\n",
            "[21,    50] loss: 0.059\n",
            "[22,    50] loss: 0.032\n",
            "[23,    50] loss: 0.072\n",
            "[24,    50] loss: 0.026\n",
            "[25,    50] loss: 0.016\n",
            "Finished Training\n"
          ],
          "name": "stdout"
        }
      ]
    },
    {
      "cell_type": "code",
      "metadata": {
        "id": "WuDIaVod1OYr",
        "colab": {
          "base_uri": "https://localhost:8080/"
        },
        "outputId": "039edac5-4aa7-4726-e515-e41ad1eb8a9f"
      },
      "source": [
        "class_correct = list(0. for i in range(10))\n",
        "class_total = list(0. for i in range(10))\n",
        "with torch.no_grad():\n",
        "    for data in testloader:\n",
        "        images, labels = data\n",
        "        images = images.to(device)\n",
        "        labels = labels.to(device)\n",
        "        outputs,_ = net(images)\n",
        "        _, predicted = torch.max(outputs, 1)\n",
        "        c = (predicted == labels).squeeze()\n",
        "        for i in range(4):\n",
        "            label = labels[i]\n",
        "            class_correct[label] += c[i].item()\n",
        "            class_total[label] += 1\n",
        "\n",
        "\n",
        "for i in range(10):\n",
        "    print('Accuracy of %5s : %2d %%' % (\n",
        "        classes[i], 100 * class_correct[i] / class_total[i]))"
      ],
      "execution_count": 7,
      "outputs": [
        {
          "output_type": "stream",
          "text": [
            "Accuracy of airplance : 70 %\n",
            "Accuracy of  bird : 56 %\n",
            "Accuracy of   car : 93 %\n",
            "Accuracy of   cat : 58 %\n",
            "Accuracy of  deer : 59 %\n",
            "Accuracy of   dog : 40 %\n",
            "Accuracy of horse : 73 %\n",
            "Accuracy of monkey : 72 %\n",
            "Accuracy of  ship : 84 %\n",
            "Accuracy of truck : 51 %\n"
          ],
          "name": "stdout"
        }
      ]
    }
  ]
}
=======
 "cells": [
  {
   "cell_type": "markdown",
   "metadata": {},
   "source": [
    "![image](https://user-images.githubusercontent.com/61610411/129577251-9d68d59e-6c4b-4ac5-8bf0-7f2535241a31.png)"
   ]
  },
  {
   "cell_type": "code",
   "execution_count": 1,
   "metadata": {},
   "outputs": [
    {
     "name": "stdout",
     "output_type": "stream",
     "text": [
      "1.9.0+cu102\n"
     ]
    }
   ],
   "source": [
    "import torch\n",
    "print(torch.__version__)\n",
    "device = torch.device('cuda:0' if torch.cuda.is_available() else 'cpu')"
   ]
  },
  {
   "cell_type": "code",
   "execution_count": 3,
   "metadata": {},
   "outputs": [
    {
     "name": "stdout",
     "output_type": "stream",
     "text": [
      "Downloading http://ai.stanford.edu/~acoates/stl10/stl10_binary.tar.gz to ./data\\stl10_binary.tar.gz\n"
     ]
    },
    {
     "data": {
      "application/vnd.jupyter.widget-view+json": {
       "model_id": "d2cc47282bd84ea7947ab59281a47bcf",
       "version_major": 2,
       "version_minor": 0
      },
      "text/plain": [
       "HBox(children=(FloatProgress(value=0.0, max=2640397119.0), HTML(value='')))"
      ]
     },
     "metadata": {},
     "output_type": "display_data"
    },
    {
     "name": "stdout",
     "output_type": "stream",
     "text": [
      "\n",
      "Extracting ./data\\stl10_binary.tar.gz to ./data\n",
      "Files already downloaded and verified\n"
     ]
    }
   ],
   "source": [
    "import torchvision\n",
    "import torchvision.transforms as transforms\n",
    "\n",
    "transform = transforms.Compose([\n",
    "                                transforms.Resize(256),\n",
    "                                transforms.RandomCrop(224), # 오려내기\n",
    "                                transforms.ToTensor(),\n",
    "                                transforms.Normalize((0.5,0.5,0.5),(0.5,0.5,0.5)),\n",
    "])\n",
    "\n",
    "trainset = torchvision.datasets.STL10(root='./data', split='train', download=True, transform=transform)\n",
    "trainloader = torch.utils.data.DataLoader(trainset, batch_size=32,shuffle=True)\n",
    "\n",
    "testset = torchvision.datasets.STL10(root='./data', split='test', download=True, transform=transform)\n",
    "testloader = torch.utils.data.DataLoader(testset, batch_size=32,shuffle=False)"
   ]
  },
  {
   "cell_type": "markdown",
   "metadata": {},
   "source": [
    "![image](https://user-images.githubusercontent.com/61610411/129573173-fa6b19f0-a45d-4db3-968b-8fdc9cfb2802.png)"
   ]
  },
  {
   "cell_type": "code",
   "execution_count": 10,
   "metadata": {},
   "outputs": [
    {
     "name": "stdout",
     "output_type": "stream",
     "text": [
      "Done.\n"
     ]
    }
   ],
   "source": [
    "import torch\n",
    "import torch.nn as nn\n",
    "\n",
    "class VGG_A(nn.Module):\n",
    "    def __init__(self, num_classes:int=1000, init_weights : bool = True):\n",
    "        super(VGG_A, self).__init__()\n",
    "        self.net = nn.Sequential(\n",
    "            # input channel (RGB : 3)\n",
    "            nn.Conv2d(in_channels=3, out_channels=64, kernel_size=3, padding=1, stride=1),\n",
    "            nn.ReLU(inplace=True),\n",
    "            nn.MaxPool2d(kernel_size=2, stride=2), # 224 -> 112\n",
    "\n",
    "            nn.Conv2d(in_channels=64, out_channels=128, kernel_size=3, padding=1, stride=1),\n",
    "            nn.ReLU(inplace=True),\n",
    "            nn.MaxPool2d(kernel_size=2, stride=2), # 112 -> 56\n",
    "\n",
    "            nn.Conv2d(in_channels=128, out_channels=256, kernel_size=3, padding=1, stride=1),\n",
    "            nn.ReLU(inplace=True),\n",
    "            nn.Conv2d(in_channels=256, out_channels=256, kernel_size=3, padding=1, stride=1),\n",
    "            nn.ReLU(inplace=True),\n",
    "            nn.MaxPool2d(kernel_size=2, stride=2), # 56 -> 28\n",
    "\n",
    "            nn.Conv2d(in_channels=256, out_channels=512, kernel_size=3, padding=1, stride=1),\n",
    "            nn.ReLU(inplace=True),\n",
    "            nn.Conv2d(in_channels=512, out_channels=512, kernel_size=3, padding=1, stride=1),\n",
    "            nn.ReLU(inplace=True),\n",
    "            nn.MaxPool2d(kernel_size=2, stride=2), # 28 -> 14\n",
    "\n",
    "            \n",
    "            nn.Conv2d(in_channels=512, out_channels=512, kernel_size=3, padding=1, stride=1),\n",
    "            nn.ReLU(inplace=True),\n",
    "            nn.Conv2d(in_channels=512, out_channels=512, kernel_size=3, padding=1, stride=1),\n",
    "            nn.ReLU(inplace=True),\n",
    "            nn.MaxPool2d(kernel_size=2, stride=2), # 14 -> 7\n",
    "        )\n",
    "        self.fclayer = nn.Sequential(\n",
    "            nn.Linear(512 * 7 * 7, 4096),\n",
    "            nn.ReLU(inplace=True),\n",
    "            nn.Dropout(0.5),\n",
    "            nn.Linear(4096,4096),\n",
    "            nn.ReLU(inplace=True),\n",
    "            nn.Dropout(0.5),\n",
    "            nn.Linear(4096, 1000),\n",
    "            #nn.Softmax(dim=1), # loss인 Cross Entropy Loss에서 softmax를 포함한다\n",
    "\n",
    "        )\n",
    "\n",
    "    def forward(self, x:torch.Tensor):\n",
    "        x = self.net(x)\n",
    "        x = torch.flatten(x,1)\n",
    "        x = self.fclayer(x)\n",
    "        return x\n",
    "\n",
    "print(\"Done.\")"
   ]
  },
  {
   "cell_type": "code",
   "execution_count": 11,
   "metadata": {},
   "outputs": [
    {
     "name": "stdout",
     "output_type": "stream",
     "text": [
      "[1,    30] loss: 2.214\n",
      "[1,    60] loss: 1.428\n",
      "[1,    90] loss: 1.412\n",
      "[1,   120] loss: 1.409\n",
      "[1,   150] loss: 1.398\n",
      "[2,    30] loss: 1.412\n",
      "[2,    60] loss: 1.403\n",
      "[2,    90] loss: 1.402\n",
      "[2,   120] loss: 1.404\n",
      "[2,   150] loss: 1.391\n",
      "[3,    30] loss: 1.392\n",
      "[3,    60] loss: 1.399\n",
      "[3,    90] loss: 1.398\n",
      "[3,   120] loss: 1.391\n",
      "[3,   150] loss: 1.391\n",
      "[4,    30] loss: 1.392\n",
      "[4,    60] loss: 1.391\n",
      "[4,    90] loss: 1.390\n",
      "[4,   120] loss: 1.394\n",
      "[4,   150] loss: 1.393\n",
      "[5,    30] loss: 1.387\n",
      "[5,    60] loss: 1.387\n",
      "[5,    90] loss: 1.390\n",
      "[5,   120] loss: 1.391\n",
      "[5,   150] loss: 1.390\n",
      "[6,    30] loss: 1.391\n",
      "[6,    60] loss: 1.393\n",
      "[6,    90] loss: 1.390\n",
      "[6,   120] loss: 1.390\n",
      "[6,   150] loss: 1.385\n",
      "[7,    30] loss: 1.391\n",
      "[7,    60] loss: 1.390\n",
      "[7,    90] loss: 1.388\n",
      "[7,   120] loss: 1.390\n",
      "[7,   150] loss: 1.386\n",
      "[8,    30] loss: 1.389\n",
      "[8,    60] loss: 1.392\n",
      "[8,    90] loss: 1.388\n",
      "[8,   120] loss: 1.386\n",
      "[8,   150] loss: 1.388\n",
      "[9,    30] loss: 1.388\n",
      "[9,    60] loss: 1.391\n",
      "[9,    90] loss: 1.391\n",
      "[9,   120] loss: 1.385\n",
      "[9,   150] loss: 1.386\n",
      "[10,    30] loss: 1.386\n",
      "[10,    60] loss: 1.392\n",
      "[10,    90] loss: 1.388\n",
      "[10,   120] loss: 1.389\n",
      "[10,   150] loss: 1.387\n",
      "983.8548805713654\n",
      "Finished Training\n"
     ]
    }
   ],
   "source": [
    "import time\n",
    "vgg_a = VGG_A(num_classes=10)\n",
    "vgg_a = vgg_a.to(device)\n",
    "\n",
    "classes = ('airplance','bird','car','cat','deer','dog','horse','monkey','ship','truck')\n",
    "\n",
    "import torch.optim as optim\n",
    "\n",
    "criterion = nn.CrossEntropyLoss().cuda()\n",
    "optimizer = optim.Adam(vgg_a.parameters(), lr=0.001)\n",
    "start_time = time.time()\n",
    "for epoch in range(10): # loop over the dataset multiple times\n",
    "    running_loss = 0.0\n",
    "    for i, data in enumerate(trainloader,0):\n",
    "        #get the inputs\n",
    "        inputs, labels = data\n",
    "        inputs, labels = inputs.to(device), labels.to(device)\n",
    "\n",
    "        #zero the parameter gradients\n",
    "\n",
    "        optimizer.zero_grad()\n",
    "\n",
    "        #print(input.shape)\n",
    "        outputs = vgg_a(inputs)\n",
    "\n",
    "        loss = criterion(outputs, labels)\n",
    "        loss.backward()\n",
    "        optimizer.step()\n",
    "\n",
    "        running_loss += loss.item()\n",
    "\n",
    "        if i % 30 == 29:\n",
    "            print('[%d, %5d] loss: %.3f' % (epoch + 1, i + 1, running_loss/50))\n",
    "            running_loss = 0.0\n",
    "\n",
    "print(time.time()-start_time)\n",
    "print('Finished Training')"
   ]
  },
  {
   "cell_type": "code",
   "execution_count": 16,
   "metadata": {},
   "outputs": [
    {
     "name": "stdout",
     "output_type": "stream",
     "text": [
      "Accuracy of airplance :  1 %\n",
      "Accuracy of  bird :  2 %\n",
      "Accuracy of   car : 84 %\n",
      "Accuracy of   cat :  0 %\n",
      "Accuracy of  deer :  0 %\n",
      "Accuracy of   dog :  0 %\n",
      "Accuracy of horse :  4 %\n",
      "Accuracy of monkey :  0 %\n",
      "Accuracy of  ship :  0 %\n",
      "Accuracy of truck :  6 %\n"
     ]
    }
   ],
   "source": [
    "class_correct = list(0. for i in range(10))\n",
    "class_total = list(0. for i in range(10))\n",
    "\n",
    "with torch.no_grad():\n",
    "    for data in testloader:\n",
    "        images, labels = data\n",
    "        images = images.cuda()\n",
    "        labels = labels.cuda()\n",
    "        outputs = vgg_a(images)\n",
    "        _, predicted = torch.max(outputs,1)\n",
    "        c = (predicted == labels).squeeze()\n",
    "\n",
    "        for i in range(4):\n",
    "            label = labels[i]\n",
    "\n",
    "            class_correct[label] += c[i].item()\n",
    "            class_total[label] += 1\n",
    "\n",
    "\n",
    "for i in range(10):\n",
    "    print('Accuracy of %5s : %2d %%' % (\n",
    "        classes[i], 100 * class_correct[i] / class_total[i]))"
   ]
  },
  {
   "cell_type": "code",
   "execution_count": null,
   "metadata": {},
   "outputs": [],
   "source": []
  }
 ],
 "metadata": {
  "kernelspec": {
   "display_name": "Python 3",
   "language": "python",
   "name": "python3"
  },
  "language_info": {
   "codemirror_mode": {
    "name": "ipython",
    "version": 3
   },
   "file_extension": ".py",
   "mimetype": "text/x-python",
   "name": "python",
   "nbconvert_exporter": "python",
   "pygments_lexer": "ipython3",
   "version": "3.8.3"
  }
 },
 "nbformat": 4,
 "nbformat_minor": 4
}
>>>>>>> 32f217426536a17c09cfe9dc5558e9689ad329f0
