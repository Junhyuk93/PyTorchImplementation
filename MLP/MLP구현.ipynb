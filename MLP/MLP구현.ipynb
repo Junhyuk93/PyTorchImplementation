{
  "nbformat": 4,
  "nbformat_minor": 0,
  "metadata": {
    "colab": {
      "name": "MLP구현.ipynb",
      "private_outputs": true,
      "provenance": []
    },
    "kernelspec": {
      "name": "python3",
      "display_name": "Python 3"
    },
    "language_info": {
      "name": "python"
    },
    "accelerator": "GPU"
  },
  "cells": [
    {
      "cell_type": "markdown",
      "metadata": {
        "id": "s52AjQdoYuN-"
      },
      "source": [
        "## Multilayer Perceptron (MLP)"
      ]
    },
    {
      "cell_type": "code",
      "metadata": {
        "id": "dkkFkz5cY009"
      },
      "source": [
        "import numpy as np\n",
        "import matplotlib.pyplot as plt\n",
        "import torch\n",
        "import torch.nn as nn\n",
        "import torch.optim as optim\n",
        "import torch.nn.functional as F\n",
        "%matplotlib inline\n",
        "%config InlineBackend.figure_format='retina' # pyplot 에서 좋은 더 화질\n",
        "print (\"PyTorch versionL:[%s].\" %(torch.__version__))\n",
        "device = torch.device('cuda:0' if torch.cuda.is_available() else 'cpu')\n",
        "print ('device:[%s]'%(device))"
      ],
      "execution_count": null,
      "outputs": []
    },
    {
      "cell_type": "markdown",
      "metadata": {
        "id": "SInuG8TQZSsu"
      },
      "source": [
        "## Dataset load"
      ]
    },
    {
      "cell_type": "code",
      "metadata": {
        "id": "H8R9lPsZZWqQ"
      },
      "source": [
        "from torchvision import datasets, transforms\n",
        "mnist_train = datasets.MNIST(root='./data/', train =True, transform = transforms.ToTensor(), download=True)\n",
        "mnist_test = datasets.MNIST(root='./data/', train =False, transform = transforms.ToTensor(), download=True)\n",
        "print ('mnist_train:\\n',mnist_train,'\\n')\n",
        "print ('mnist_test:\\n',mnist_train,'\\n')\n",
        "print ('done.')"
      ],
      "execution_count": null,
      "outputs": []
    },
    {
      "cell_type": "markdown",
      "metadata": {
        "id": "tWwioe-IZ8Io"
      },
      "source": [
        "## Data Iterator"
      ]
    },
    {
      "cell_type": "code",
      "metadata": {
        "id": "iIFxhMSjdlkb"
      },
      "source": [
        "BATCH_SIZE = 256\n",
        "train_iter = torch.utils.data.DataLoader(mnist_train,batch_size=BATCH_SIZE,shuffle=True, num_workers=1)\n",
        "test_iter = torch.utils.data.DataLoader(mnist_train,batch_size=BATCH_SIZE,shuffle=True, num_workers=1)\n",
        "print('Done')"
      ],
      "execution_count": null,
      "outputs": []
    },
    {
      "cell_type": "markdown",
      "metadata": {
        "id": "rw5rcIfXd0Ge"
      },
      "source": [
        "## Define the MLP model"
      ]
    },
    {
      "cell_type": "code",
      "metadata": {
        "id": "jmSxaf7md_Sy"
      },
      "source": [
        "class MultiLayerPerceptronClass(nn.Module):\n",
        "    \n",
        "    def __init__(self, name='mlp', xdim=784,hdim=256,ydim=10):\n",
        "        super(MultiLayerPerceptronClass,self).__init__()\n",
        "        self.name = name\n",
        "        self.xdim = xdim\n",
        "        self.hdim = hdim\n",
        "        self.ydim = ydim\n",
        "        self.lin_1 = nn.Linear(self.xdim,self.hdim)\n",
        "        self.lin_2 = nn.Linear(self.hdim,self.ydim)\n",
        "        self.init_param() # initialize parameters\n",
        "\n",
        "    def init_param(self):\n",
        "        nn.init.kaiming_normal_(self.lin_1.weight)\n",
        "        nn.init.zeros_(self.lin_1.bias)\n",
        "        nn.init.kaiming_normal_(self.lin_2.weight)\n",
        "        nn.init.zeros_(self.lin_2.bias)\n",
        "\n",
        "    def forward(self,x):\n",
        "        net = x\n",
        "        net = self.lin_1(net)\n",
        "        net = F.relu(net)\n",
        "        net = self.lin_2(net)\n",
        "        return net\n",
        "\n",
        "M = MultiLayerPerceptronClass(name='mlp',xdim=784,hdim=256,ydim=10).to(device)\n",
        "loss = nn.CrossEntropyLoss()\n",
        "optm = optim.Adam(M.parameters(), lr=1e-3)\n",
        "print ('Done.')"
      ],
      "execution_count": null,
      "outputs": []
    },
    {
      "cell_type": "markdown",
      "metadata": {
        "id": "vax3K06CepsL"
      },
      "source": [
        "## Somple Forward Path of the MLP Model"
      ]
    },
    {
      "cell_type": "code",
      "metadata": {
        "id": "-h_93lswf01w"
      },
      "source": [
        "x_numpy = np.random.rand(2,784)\n",
        "x_torch = torch.from_numpy(x_numpy).float().to(device)\n",
        "y_torch = M.forward(x_torch)\n",
        "y_numpy = y_torch.detach().cpu().numpy()\n",
        "\n",
        "print ('x_numpy:\\n',x_numpy)\n",
        "print ('x_torch:\\n',x_torch)\n",
        "print ('y_torch:\\n',y_torch)\n",
        "print ('y_numpy:\\n',y_numpy)\n"
      ],
      "execution_count": null,
      "outputs": []
    },
    {
      "cell_type": "markdown",
      "metadata": {
        "id": "KD6zE2RLgMIj"
      },
      "source": [
        "## Check Parameters"
      ]
    },
    {
      "cell_type": "code",
      "metadata": {
        "id": "RCAXa9tAhC0i"
      },
      "source": [
        "np.set_printoptions(precision=3)\n",
        "n_param = 0\n",
        "\n",
        "for p_idx,(param_name, param) in enumerate(M.named_parameters()):\n",
        "    param_numpy = param.detach().cpu().numpy()\n",
        "    n_param += len(param_numpy.reshape(-1))\n",
        "    print('[%d] name: [%s] shape: [%s].'%(p_idx,param_name,param_numpy.shape))\n",
        "    print(\"    val:%s\"%(param_numpy.reshape(-1)[:5]))\n",
        "\n",
        "print(\"Total number of parameters:[%s].\"%(format(n_param, ',d')))"
      ],
      "execution_count": null,
      "outputs": []
    },
    {
      "cell_type": "markdown",
      "metadata": {
        "id": "ZUaMJZdKh7fs"
      },
      "source": [
        "## Evaluation Function"
      ]
    },
    {
      "cell_type": "code",
      "metadata": {
        "id": "DB6z5orFkBbB"
      },
      "source": [
        "def func_eval(model, data_iter, device):\n",
        "    with torch.no_grad():\n",
        "        model.eval()\n",
        "        n_total, n_correct = 0,0\n",
        "        for batch_in, batch_out in data_iter:\n",
        "\n",
        "            y_trgt = batch_out.to(device)\n",
        "\n",
        "            model_pred = model(batch_in.view(-1,28*28).to(device))\n",
        "\n",
        "            _, y_pred = torch.max(model_pred.data,1)\n",
        "            n_correct += (y_pred == y_trgt).sum().item()\n",
        "            n_total += batch_in.size(0)\n",
        "\n",
        "        val_accr = (n_correct/n_total)\n",
        "        model.train() # back to train mode\n",
        "    return val_accr\n",
        "print(\"Done\")"
      ],
      "execution_count": null,
      "outputs": []
    },
    {
      "cell_type": "markdown",
      "metadata": {
        "id": "TE8LF0zWk313"
      },
      "source": [
        "## Initial Evaluation"
      ]
    },
    {
      "cell_type": "code",
      "metadata": {
        "id": "4qI9hBimlDQv"
      },
      "source": [
        "train_accr = func_eval(M, train_iter,device)\n",
        "test_accr = func_eval(M, test_iter, device)\n",
        "print ('train_accr : [%.3f] test_accr:[%.3f]'%(train_accr,test_accr))"
      ],
      "execution_count": null,
      "outputs": []
    },
    {
      "cell_type": "code",
      "metadata": {
        "id": "qLLL-Zv5lSyM"
      },
      "source": [
        "print (\" start training\")\n",
        "M.init_param() # initialize parameters\n",
        "\n",
        "M.train()\n",
        "\n",
        "EPOCHS, print_every = 10,1\n",
        "\n",
        "for epoch in range(EPOCHS):\n",
        "    loss_val_sum = 0\n",
        "\n",
        "    for batch_in, batch_out in train_iter:\n",
        "        # Forward path\n",
        "        y_pred = M.forward(batch_in.view(-1,28*28).to(device))\n",
        "        loss_out = loss(y_pred, batch_out.to(device))\n",
        "\n",
        "        #Updata\n",
        "        optm.zero_grad()\n",
        "        loss_out.backward()\n",
        "        optm.step()\n",
        "\n",
        "        loss_val_sum += loss_out\n",
        "    loss_val_avg = loss_val_sum/len(train_iter)\n",
        "\n",
        "    # print\n",
        "\n",
        "    if ((epoch%print_every)==0) or (epoch==(EPOCHS-1)):\n",
        "        train_accr = func_eval(M,train_iter,device)\n",
        "        test_accr = func_eval(M,test_iter,device)\n",
        "\n",
        "        print ('epoch:[%d] loss:[%.3f] train_accr:[%.3f] test_accr:[%.3f]'% (epoch,loss_val_avg,train_accr,test_accr))\n",
        "\n",
        "print (\"Done\")"
      ],
      "execution_count": null,
      "outputs": []
    },
    {
      "cell_type": "code",
      "metadata": {
        "id": "TPTqIli0mV8i"
      },
      "source": [
        "from torchvision import datasets, transforms\n",
        "mnist_train = datasets.MNIST(root='./data/',train=True,transform=transforms.ToTensor(),download=True)\n",
        "mnist_test = datasets.MNIST(root='./data/',train=False,transform=transforms.ToTensor(),download=True)\n",
        "\n",
        "print('mnist_train:\\n',mnist_train,'\\n')\n",
        "print('mnist_test:\\n',mnist_train,'\\n')\n",
        "print('Done.')"
      ],
      "execution_count": null,
      "outputs": []
    },
    {
      "cell_type": "code",
      "metadata": {
        "id": "vbXFkhSyn6Gn"
      },
      "source": [
        ""
      ],
      "execution_count": null,
      "outputs": []
    }
  ]
}